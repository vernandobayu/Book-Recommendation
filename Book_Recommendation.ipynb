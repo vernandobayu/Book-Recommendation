{
  "nbformat": 4,
  "nbformat_minor": 0,
  "metadata": {
    "colab": {
      "provenance": []
    },
    "kernelspec": {
      "name": "python3",
      "display_name": "Python 3"
    },
    "language_info": {
      "name": "python"
    }
  },
  "cells": [
    {
      "cell_type": "markdown",
      "source": [
        "TF-IDF Matriks"
      ],
      "metadata": {
        "id": "7f7Mb-Z8Rxq2"
      }
    },
    {
      "cell_type": "code",
      "execution_count": null,
      "metadata": {
        "id": "M-xm1NimNFpX"
      },
      "outputs": [],
      "source": [
        "import numpy as np\n",
        "import pandas as pd\n",
        "from sklearn.feature_extraction import text\n",
        "from sklearn.metrics.pairwise import linear_kernel"
      ]
    },
    {
      "cell_type": "code",
      "source": [
        "data = pd.read_csv(\"top2k.csv\")\n",
        "print(data.head())"
      ],
      "metadata": {
        "colab": {
          "base_uri": "https://localhost:8080/"
        },
        "id": "29yC8OTbPrip",
        "outputId": "e4ea11de-e7f1-4ad2-e38c-d27708b6c337"
      },
      "execution_count": null,
      "outputs": [
        {
          "output_type": "stream",
          "name": "stdout",
          "text": [
            "   Unnamed: 0  id  book_id  best_book_id  work_id  books_count       isbn  \\\n",
            "0           0   1  2767052       2767052  2792775          272  439023483   \n",
            "1           1   2        3             3  4640799          491  439554934   \n",
            "2           2   3    41865         41865  3212258          226  316015849   \n",
            "3           3   4     2657          2657  3275794          487   61120081   \n",
            "4           4   5     4671          4671   245494         1356  743273567   \n",
            "\n",
            "         isbn13                      authors  original_publication_year  ...  \\\n",
            "0  9.780439e+12              Suzanne Collins                     2008.0  ...   \n",
            "1  9.780440e+12  J.K. Rowling, Mary GrandPré                     1997.0  ...   \n",
            "2  9.780316e+12              Stephenie Meyer                     2005.0  ...   \n",
            "3  9.780061e+12                   Harper Lee                     1960.0  ...   \n",
            "4  9.780743e+12          F. Scott Fitzgerald                     1925.0  ...   \n",
            "\n",
            "  ratings_1 ratings_2 ratings_3  ratings_4  ratings_5  \\\n",
            "0     66715    127936    560092    1481305    2706317   \n",
            "1     75504    101676    455024    1156318    3011543   \n",
            "2    456191    436802    793319     875073    1355439   \n",
            "3     60427    117415    446835    1001952    1714267   \n",
            "4     86236    197621    606158     936012     947718   \n",
            "\n",
            "                                           image_url  \\\n",
            "0  https://images.gr-assets.com/books/1447303603m...   \n",
            "1  https://images.gr-assets.com/books/1474154022m...   \n",
            "2  https://images.gr-assets.com/books/1361039443m...   \n",
            "3  https://images.gr-assets.com/books/1361975680m...   \n",
            "4  https://images.gr-assets.com/books/1490528560m...   \n",
            "\n",
            "                                     small_image_url  goodreads_book_id  \\\n",
            "0  https://images.gr-assets.com/books/1447303603s...            2767052   \n",
            "1  https://images.gr-assets.com/books/1474154022s...                  3   \n",
            "2  https://images.gr-assets.com/books/1361039443s...              41865   \n",
            "3  https://images.gr-assets.com/books/1361975680s...               2657   \n",
            "4  https://images.gr-assets.com/books/1490528560s...               4671   \n",
            "\n",
            "                                            tag_name  \\\n",
            "0                                                 []   \n",
            "1  ['books', 'bbc', 'books', 'every', 'man', 'sho...   \n",
            "2                                                 []   \n",
            "3  ['mercenaries', 'mercenary', 'mercer', 'mayer'...   \n",
            "4                                                 []   \n",
            "\n",
            "                                         description  \n",
            "0  WINNING MEANS FAME AND FORTUNE.LOSING MEANS CE...  \n",
            "1  Harry Potter's life is miserable. His parents ...  \n",
            "2  About three things I was absolutely positive.F...  \n",
            "3  The unforgettable novel of a childhood in a sl...  \n",
            "4  Alternate Cover Edition ISBN: 0743273567 (ISBN...  \n",
            "\n",
            "[5 rows x 27 columns]\n"
          ]
        }
      ]
    },
    {
      "cell_type": "code",
      "source": [
        "data.info()"
      ],
      "metadata": {
        "colab": {
          "base_uri": "https://localhost:8080/"
        },
        "id": "Nil0pAQsPz_H",
        "outputId": "812a309d-5b4a-4ba6-bd0a-5cb8647e6b76"
      },
      "execution_count": null,
      "outputs": [
        {
          "output_type": "stream",
          "name": "stdout",
          "text": [
            "<class 'pandas.core.frame.DataFrame'>\n",
            "RangeIndex: 2000 entries, 0 to 1999\n",
            "Data columns (total 27 columns):\n",
            " #   Column                     Non-Null Count  Dtype  \n",
            "---  ------                     --------------  -----  \n",
            " 0   Unnamed: 0                 2000 non-null   int64  \n",
            " 1   id                         2000 non-null   int64  \n",
            " 2   book_id                    2000 non-null   int64  \n",
            " 3   best_book_id               2000 non-null   int64  \n",
            " 4   work_id                    2000 non-null   int64  \n",
            " 5   books_count                2000 non-null   int64  \n",
            " 6   isbn                       1923 non-null   object \n",
            " 7   isbn13                     1931 non-null   float64\n",
            " 8   authors                    2000 non-null   object \n",
            " 9   original_publication_year  1998 non-null   float64\n",
            " 10  original_title             1958 non-null   object \n",
            " 11  title                      2000 non-null   object \n",
            " 12  language_code              1918 non-null   object \n",
            " 13  average_rating             2000 non-null   float64\n",
            " 14  ratings_count              2000 non-null   int64  \n",
            " 15  work_ratings_count         2000 non-null   int64  \n",
            " 16  work_text_reviews_count    2000 non-null   int64  \n",
            " 17  ratings_1                  2000 non-null   int64  \n",
            " 18  ratings_2                  2000 non-null   int64  \n",
            " 19  ratings_3                  2000 non-null   int64  \n",
            " 20  ratings_4                  2000 non-null   int64  \n",
            " 21  ratings_5                  2000 non-null   int64  \n",
            " 22  image_url                  2000 non-null   object \n",
            " 23  small_image_url            2000 non-null   object \n",
            " 24  goodreads_book_id          2000 non-null   int64  \n",
            " 25  tag_name                   2000 non-null   object \n",
            " 26  description                1986 non-null   object \n",
            "dtypes: float64(3), int64(15), object(9)\n",
            "memory usage: 422.0+ KB\n"
          ]
        }
      ]
    },
    {
      "cell_type": "code",
      "source": [
        "data = data[[\"title\", \"description\", \"ratings_count\"]]\n",
        "print(data.head())"
      ],
      "metadata": {
        "colab": {
          "base_uri": "https://localhost:8080/"
        },
        "id": "Jpnn8D15Ptsc",
        "outputId": "37d51194-56cd-4c01-9804-daa156b97d77"
      },
      "execution_count": null,
      "outputs": [
        {
          "output_type": "stream",
          "name": "stdout",
          "text": [
            "                                               title  \\\n",
            "0            The Hunger Games (The Hunger Games, #1)   \n",
            "1  Harry Potter and the Sorcerer's Stone (Harry P...   \n",
            "2                            Twilight (Twilight, #1)   \n",
            "3                              To Kill a Mockingbird   \n",
            "4                                   The Great Gatsby   \n",
            "\n",
            "                                         description  ratings_count  \n",
            "0  WINNING MEANS FAME AND FORTUNE.LOSING MEANS CE...        4780653  \n",
            "1  Harry Potter's life is miserable. His parents ...        4602479  \n",
            "2  About three things I was absolutely positive.F...        3866839  \n",
            "3  The unforgettable novel of a childhood in a sl...        3198671  \n",
            "4  Alternate Cover Edition ISBN: 0743273567 (ISBN...        2683664  \n"
          ]
        }
      ]
    },
    {
      "cell_type": "code",
      "source": [
        "print(data.isnull().sum())"
      ],
      "metadata": {
        "colab": {
          "base_uri": "https://localhost:8080/"
        },
        "id": "vcTVBZoOQqU0",
        "outputId": "c2d7e66d-f04d-49d6-a661-28a192624c5b"
      },
      "execution_count": null,
      "outputs": [
        {
          "output_type": "stream",
          "name": "stdout",
          "text": [
            "title             0\n",
            "description      14\n",
            "ratings_count     0\n",
            "dtype: int64\n"
          ]
        }
      ]
    },
    {
      "cell_type": "code",
      "source": [
        "data = data.dropna()"
      ],
      "metadata": {
        "id": "fx6sI-zjQw7d"
      },
      "execution_count": null,
      "outputs": []
    },
    {
      "cell_type": "code",
      "source": [
        "feature = data[\"description\"].tolist()\n",
        "tfidf = text.TfidfVectorizer(input=feature, stop_words=\"english\")\n",
        "tfidf_matrix = tfidf.fit_transform(feature)\n",
        "similarity = linear_kernel(tfidf_matrix, tfidf_matrix)"
      ],
      "metadata": {
        "id": "LieyuqmGQ4Wo"
      },
      "execution_count": null,
      "outputs": []
    },
    {
      "cell_type": "code",
      "source": [
        "indices = pd.Series(data.index, \n",
        "                    index=data['title']).drop_duplicates()"
      ],
      "metadata": {
        "id": "24CQXd-SRSVK"
      },
      "execution_count": null,
      "outputs": []
    },
    {
      "cell_type": "code",
      "source": [
        "def book_recommendation(title, similarity = similarity):\n",
        "    index = indices[title]\n",
        "    similarity_scores = list(enumerate(similarity[index]))\n",
        "    similarity_scores = sorted(similarity_scores, key=lambda x: x[1], reverse=True)\n",
        "    similarity_scores = similarity_scores[0:5]\n",
        "    bookindices = [i[0] for i in similarity_scores]\n",
        "    return data['title'].iloc[bookindices]\n",
        "\n",
        "print(book_recommendation(\"The Help\"))"
      ],
      "metadata": {
        "colab": {
          "base_uri": "https://localhost:8080/"
        },
        "id": "gkglfwAiRAA_",
        "outputId": "8c2edd58-ceba-4740-dbe6-d0c6b3625ea4"
      },
      "execution_count": null,
      "outputs": [
        {
          "output_type": "stream",
          "name": "stdout",
          "text": [
            "31            Of Mice and Men\n",
            "1707    The Sky Is Everywhere\n",
            "224              East of Eden\n",
            "130       The Grapes of Wrath\n",
            "876     The Neverending Story\n",
            "Name: title, dtype: object\n"
          ]
        }
      ]
    }
  ]
}